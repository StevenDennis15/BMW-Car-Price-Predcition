{
 "cells": [
  {
   "cell_type": "markdown",
   "metadata": {},
   "source": [
    "### Import modules "
   ]
  },
  {
   "cell_type": "code",
   "execution_count": 2,
   "metadata": {},
   "outputs": [],
   "source": [
    "import pandas as pd\n",
    "import numpy as np\n",
    "import seaborn as sns\n",
    "import sklearn as sk\n",
    "import matplotlib.pyplot as plt\n",
    "from sklearn import metrics"
   ]
  },
  {
   "cell_type": "markdown",
   "metadata": {},
   "source": [
    "### Read the datasets"
   ]
  },
  {
   "cell_type": "code",
   "execution_count": 3,
   "metadata": {},
   "outputs": [],
   "source": [
    "df = pd.read_csv(\"C:/Users/Proye/Documents/File Latihan Python/BMW Car Prediction/bmw.csv\")"
   ]
  },
  {
   "cell_type": "code",
   "execution_count": 4,
   "metadata": {},
   "outputs": [
    {
     "data": {
      "text/html": [
       "<div>\n",
       "<style scoped>\n",
       "    .dataframe tbody tr th:only-of-type {\n",
       "        vertical-align: middle;\n",
       "    }\n",
       "\n",
       "    .dataframe tbody tr th {\n",
       "        vertical-align: top;\n",
       "    }\n",
       "\n",
       "    .dataframe thead th {\n",
       "        text-align: right;\n",
       "    }\n",
       "</style>\n",
       "<table border=\"1\" class=\"dataframe\">\n",
       "  <thead>\n",
       "    <tr style=\"text-align: right;\">\n",
       "      <th></th>\n",
       "      <th>model</th>\n",
       "      <th>year</th>\n",
       "      <th>price</th>\n",
       "      <th>transmission</th>\n",
       "      <th>mileage</th>\n",
       "      <th>fuelType</th>\n",
       "      <th>tax</th>\n",
       "      <th>mpg</th>\n",
       "      <th>engineSize</th>\n",
       "    </tr>\n",
       "  </thead>\n",
       "  <tbody>\n",
       "    <tr>\n",
       "      <th>0</th>\n",
       "      <td>5 Series</td>\n",
       "      <td>2014</td>\n",
       "      <td>11200</td>\n",
       "      <td>Automatic</td>\n",
       "      <td>67068</td>\n",
       "      <td>Diesel</td>\n",
       "      <td>125</td>\n",
       "      <td>57.6</td>\n",
       "      <td>2.0</td>\n",
       "    </tr>\n",
       "    <tr>\n",
       "      <th>1</th>\n",
       "      <td>6 Series</td>\n",
       "      <td>2018</td>\n",
       "      <td>27000</td>\n",
       "      <td>Automatic</td>\n",
       "      <td>14827</td>\n",
       "      <td>Petrol</td>\n",
       "      <td>145</td>\n",
       "      <td>42.8</td>\n",
       "      <td>2.0</td>\n",
       "    </tr>\n",
       "    <tr>\n",
       "      <th>2</th>\n",
       "      <td>5 Series</td>\n",
       "      <td>2016</td>\n",
       "      <td>16000</td>\n",
       "      <td>Automatic</td>\n",
       "      <td>62794</td>\n",
       "      <td>Diesel</td>\n",
       "      <td>160</td>\n",
       "      <td>51.4</td>\n",
       "      <td>3.0</td>\n",
       "    </tr>\n",
       "    <tr>\n",
       "      <th>3</th>\n",
       "      <td>1 Series</td>\n",
       "      <td>2017</td>\n",
       "      <td>12750</td>\n",
       "      <td>Automatic</td>\n",
       "      <td>26676</td>\n",
       "      <td>Diesel</td>\n",
       "      <td>145</td>\n",
       "      <td>72.4</td>\n",
       "      <td>1.5</td>\n",
       "    </tr>\n",
       "    <tr>\n",
       "      <th>4</th>\n",
       "      <td>7 Series</td>\n",
       "      <td>2014</td>\n",
       "      <td>14500</td>\n",
       "      <td>Automatic</td>\n",
       "      <td>39554</td>\n",
       "      <td>Diesel</td>\n",
       "      <td>160</td>\n",
       "      <td>50.4</td>\n",
       "      <td>3.0</td>\n",
       "    </tr>\n",
       "    <tr>\n",
       "      <th>...</th>\n",
       "      <td>...</td>\n",
       "      <td>...</td>\n",
       "      <td>...</td>\n",
       "      <td>...</td>\n",
       "      <td>...</td>\n",
       "      <td>...</td>\n",
       "      <td>...</td>\n",
       "      <td>...</td>\n",
       "      <td>...</td>\n",
       "    </tr>\n",
       "    <tr>\n",
       "      <th>10776</th>\n",
       "      <td>X3</td>\n",
       "      <td>2016</td>\n",
       "      <td>19000</td>\n",
       "      <td>Automatic</td>\n",
       "      <td>40818</td>\n",
       "      <td>Diesel</td>\n",
       "      <td>150</td>\n",
       "      <td>54.3</td>\n",
       "      <td>2.0</td>\n",
       "    </tr>\n",
       "    <tr>\n",
       "      <th>10777</th>\n",
       "      <td>5 Series</td>\n",
       "      <td>2016</td>\n",
       "      <td>14600</td>\n",
       "      <td>Automatic</td>\n",
       "      <td>42947</td>\n",
       "      <td>Diesel</td>\n",
       "      <td>125</td>\n",
       "      <td>60.1</td>\n",
       "      <td>2.0</td>\n",
       "    </tr>\n",
       "    <tr>\n",
       "      <th>10778</th>\n",
       "      <td>3 Series</td>\n",
       "      <td>2017</td>\n",
       "      <td>13100</td>\n",
       "      <td>Manual</td>\n",
       "      <td>25468</td>\n",
       "      <td>Petrol</td>\n",
       "      <td>200</td>\n",
       "      <td>42.8</td>\n",
       "      <td>2.0</td>\n",
       "    </tr>\n",
       "    <tr>\n",
       "      <th>10779</th>\n",
       "      <td>1 Series</td>\n",
       "      <td>2014</td>\n",
       "      <td>9930</td>\n",
       "      <td>Automatic</td>\n",
       "      <td>45000</td>\n",
       "      <td>Diesel</td>\n",
       "      <td>30</td>\n",
       "      <td>64.2</td>\n",
       "      <td>2.0</td>\n",
       "    </tr>\n",
       "    <tr>\n",
       "      <th>10780</th>\n",
       "      <td>X1</td>\n",
       "      <td>2017</td>\n",
       "      <td>15981</td>\n",
       "      <td>Automatic</td>\n",
       "      <td>59432</td>\n",
       "      <td>Diesel</td>\n",
       "      <td>125</td>\n",
       "      <td>57.6</td>\n",
       "      <td>2.0</td>\n",
       "    </tr>\n",
       "  </tbody>\n",
       "</table>\n",
       "<p>10781 rows × 9 columns</p>\n",
       "</div>"
      ],
      "text/plain": [
       "           model  year  price transmission  mileage fuelType  tax   mpg  \\\n",
       "0       5 Series  2014  11200    Automatic    67068   Diesel  125  57.6   \n",
       "1       6 Series  2018  27000    Automatic    14827   Petrol  145  42.8   \n",
       "2       5 Series  2016  16000    Automatic    62794   Diesel  160  51.4   \n",
       "3       1 Series  2017  12750    Automatic    26676   Diesel  145  72.4   \n",
       "4       7 Series  2014  14500    Automatic    39554   Diesel  160  50.4   \n",
       "...          ...   ...    ...          ...      ...      ...  ...   ...   \n",
       "10776         X3  2016  19000    Automatic    40818   Diesel  150  54.3   \n",
       "10777   5 Series  2016  14600    Automatic    42947   Diesel  125  60.1   \n",
       "10778   3 Series  2017  13100       Manual    25468   Petrol  200  42.8   \n",
       "10779   1 Series  2014   9930    Automatic    45000   Diesel   30  64.2   \n",
       "10780         X1  2017  15981    Automatic    59432   Diesel  125  57.6   \n",
       "\n",
       "       engineSize  \n",
       "0             2.0  \n",
       "1             2.0  \n",
       "2             3.0  \n",
       "3             1.5  \n",
       "4             3.0  \n",
       "...           ...  \n",
       "10776         2.0  \n",
       "10777         2.0  \n",
       "10778         2.0  \n",
       "10779         2.0  \n",
       "10780         2.0  \n",
       "\n",
       "[10781 rows x 9 columns]"
      ]
     },
     "execution_count": 4,
     "metadata": {},
     "output_type": "execute_result"
    }
   ],
   "source": [
    "df"
   ]
  },
  {
   "cell_type": "code",
   "execution_count": 55,
   "metadata": {},
   "outputs": [
    {
     "name": "stdout",
     "output_type": "stream",
     "text": [
      "<class 'pandas.core.frame.DataFrame'>\n",
      "RangeIndex: 10781 entries, 0 to 10780\n",
      "Data columns (total 9 columns):\n",
      " #   Column        Non-Null Count  Dtype  \n",
      "---  ------        --------------  -----  \n",
      " 0   model         10781 non-null  object \n",
      " 1   year          10781 non-null  int64  \n",
      " 2   price         10781 non-null  int64  \n",
      " 3   transmission  10781 non-null  object \n",
      " 4   mileage       10781 non-null  int64  \n",
      " 5   fuelType      10781 non-null  object \n",
      " 6   tax           10781 non-null  int64  \n",
      " 7   mpg           10781 non-null  float64\n",
      " 8   engineSize    10781 non-null  float64\n",
      "dtypes: float64(2), int64(4), object(3)\n",
      "memory usage: 758.2+ KB\n"
     ]
    }
   ],
   "source": [
    "df.info()"
   ]
  },
  {
   "cell_type": "markdown",
   "metadata": {},
   "source": [
    "The data doesn't have any missing values"
   ]
  },
  {
   "cell_type": "markdown",
   "metadata": {},
   "source": [
    "### Data Preparation"
   ]
  },
  {
   "cell_type": "markdown",
   "metadata": {},
   "source": [
    "Because the datasets have three categorical columns (model, transmission, and fuelType) we need to convert them to numerical value. For this case I use onehot encoding."
   ]
  },
  {
   "cell_type": "code",
   "execution_count": 5,
   "metadata": {},
   "outputs": [],
   "source": [
    "df_onehot=pd.get_dummies(df,columns=['model','transmission','fuelType'])"
   ]
  },
  {
   "cell_type": "code",
   "execution_count": 6,
   "metadata": {},
   "outputs": [
    {
     "data": {
      "text/html": [
       "<div>\n",
       "<style scoped>\n",
       "    .dataframe tbody tr th:only-of-type {\n",
       "        vertical-align: middle;\n",
       "    }\n",
       "\n",
       "    .dataframe tbody tr th {\n",
       "        vertical-align: top;\n",
       "    }\n",
       "\n",
       "    .dataframe thead th {\n",
       "        text-align: right;\n",
       "    }\n",
       "</style>\n",
       "<table border=\"1\" class=\"dataframe\">\n",
       "  <thead>\n",
       "    <tr style=\"text-align: right;\">\n",
       "      <th></th>\n",
       "      <th>year</th>\n",
       "      <th>price</th>\n",
       "      <th>mileage</th>\n",
       "      <th>tax</th>\n",
       "      <th>mpg</th>\n",
       "      <th>engineSize</th>\n",
       "      <th>model_ 1 Series</th>\n",
       "      <th>model_ 2 Series</th>\n",
       "      <th>model_ 3 Series</th>\n",
       "      <th>model_ 4 Series</th>\n",
       "      <th>...</th>\n",
       "      <th>model_ i3</th>\n",
       "      <th>model_ i8</th>\n",
       "      <th>transmission_Automatic</th>\n",
       "      <th>transmission_Manual</th>\n",
       "      <th>transmission_Semi-Auto</th>\n",
       "      <th>fuelType_Diesel</th>\n",
       "      <th>fuelType_Electric</th>\n",
       "      <th>fuelType_Hybrid</th>\n",
       "      <th>fuelType_Other</th>\n",
       "      <th>fuelType_Petrol</th>\n",
       "    </tr>\n",
       "  </thead>\n",
       "  <tbody>\n",
       "    <tr>\n",
       "      <th>0</th>\n",
       "      <td>2014</td>\n",
       "      <td>11200</td>\n",
       "      <td>67068</td>\n",
       "      <td>125</td>\n",
       "      <td>57.6</td>\n",
       "      <td>2.0</td>\n",
       "      <td>0</td>\n",
       "      <td>0</td>\n",
       "      <td>0</td>\n",
       "      <td>0</td>\n",
       "      <td>...</td>\n",
       "      <td>0</td>\n",
       "      <td>0</td>\n",
       "      <td>1</td>\n",
       "      <td>0</td>\n",
       "      <td>0</td>\n",
       "      <td>1</td>\n",
       "      <td>0</td>\n",
       "      <td>0</td>\n",
       "      <td>0</td>\n",
       "      <td>0</td>\n",
       "    </tr>\n",
       "    <tr>\n",
       "      <th>1</th>\n",
       "      <td>2018</td>\n",
       "      <td>27000</td>\n",
       "      <td>14827</td>\n",
       "      <td>145</td>\n",
       "      <td>42.8</td>\n",
       "      <td>2.0</td>\n",
       "      <td>0</td>\n",
       "      <td>0</td>\n",
       "      <td>0</td>\n",
       "      <td>0</td>\n",
       "      <td>...</td>\n",
       "      <td>0</td>\n",
       "      <td>0</td>\n",
       "      <td>1</td>\n",
       "      <td>0</td>\n",
       "      <td>0</td>\n",
       "      <td>0</td>\n",
       "      <td>0</td>\n",
       "      <td>0</td>\n",
       "      <td>0</td>\n",
       "      <td>1</td>\n",
       "    </tr>\n",
       "    <tr>\n",
       "      <th>2</th>\n",
       "      <td>2016</td>\n",
       "      <td>16000</td>\n",
       "      <td>62794</td>\n",
       "      <td>160</td>\n",
       "      <td>51.4</td>\n",
       "      <td>3.0</td>\n",
       "      <td>0</td>\n",
       "      <td>0</td>\n",
       "      <td>0</td>\n",
       "      <td>0</td>\n",
       "      <td>...</td>\n",
       "      <td>0</td>\n",
       "      <td>0</td>\n",
       "      <td>1</td>\n",
       "      <td>0</td>\n",
       "      <td>0</td>\n",
       "      <td>1</td>\n",
       "      <td>0</td>\n",
       "      <td>0</td>\n",
       "      <td>0</td>\n",
       "      <td>0</td>\n",
       "    </tr>\n",
       "    <tr>\n",
       "      <th>3</th>\n",
       "      <td>2017</td>\n",
       "      <td>12750</td>\n",
       "      <td>26676</td>\n",
       "      <td>145</td>\n",
       "      <td>72.4</td>\n",
       "      <td>1.5</td>\n",
       "      <td>1</td>\n",
       "      <td>0</td>\n",
       "      <td>0</td>\n",
       "      <td>0</td>\n",
       "      <td>...</td>\n",
       "      <td>0</td>\n",
       "      <td>0</td>\n",
       "      <td>1</td>\n",
       "      <td>0</td>\n",
       "      <td>0</td>\n",
       "      <td>1</td>\n",
       "      <td>0</td>\n",
       "      <td>0</td>\n",
       "      <td>0</td>\n",
       "      <td>0</td>\n",
       "    </tr>\n",
       "    <tr>\n",
       "      <th>4</th>\n",
       "      <td>2014</td>\n",
       "      <td>14500</td>\n",
       "      <td>39554</td>\n",
       "      <td>160</td>\n",
       "      <td>50.4</td>\n",
       "      <td>3.0</td>\n",
       "      <td>0</td>\n",
       "      <td>0</td>\n",
       "      <td>0</td>\n",
       "      <td>0</td>\n",
       "      <td>...</td>\n",
       "      <td>0</td>\n",
       "      <td>0</td>\n",
       "      <td>1</td>\n",
       "      <td>0</td>\n",
       "      <td>0</td>\n",
       "      <td>1</td>\n",
       "      <td>0</td>\n",
       "      <td>0</td>\n",
       "      <td>0</td>\n",
       "      <td>0</td>\n",
       "    </tr>\n",
       "    <tr>\n",
       "      <th>...</th>\n",
       "      <td>...</td>\n",
       "      <td>...</td>\n",
       "      <td>...</td>\n",
       "      <td>...</td>\n",
       "      <td>...</td>\n",
       "      <td>...</td>\n",
       "      <td>...</td>\n",
       "      <td>...</td>\n",
       "      <td>...</td>\n",
       "      <td>...</td>\n",
       "      <td>...</td>\n",
       "      <td>...</td>\n",
       "      <td>...</td>\n",
       "      <td>...</td>\n",
       "      <td>...</td>\n",
       "      <td>...</td>\n",
       "      <td>...</td>\n",
       "      <td>...</td>\n",
       "      <td>...</td>\n",
       "      <td>...</td>\n",
       "      <td>...</td>\n",
       "    </tr>\n",
       "    <tr>\n",
       "      <th>10776</th>\n",
       "      <td>2016</td>\n",
       "      <td>19000</td>\n",
       "      <td>40818</td>\n",
       "      <td>150</td>\n",
       "      <td>54.3</td>\n",
       "      <td>2.0</td>\n",
       "      <td>0</td>\n",
       "      <td>0</td>\n",
       "      <td>0</td>\n",
       "      <td>0</td>\n",
       "      <td>...</td>\n",
       "      <td>0</td>\n",
       "      <td>0</td>\n",
       "      <td>1</td>\n",
       "      <td>0</td>\n",
       "      <td>0</td>\n",
       "      <td>1</td>\n",
       "      <td>0</td>\n",
       "      <td>0</td>\n",
       "      <td>0</td>\n",
       "      <td>0</td>\n",
       "    </tr>\n",
       "    <tr>\n",
       "      <th>10777</th>\n",
       "      <td>2016</td>\n",
       "      <td>14600</td>\n",
       "      <td>42947</td>\n",
       "      <td>125</td>\n",
       "      <td>60.1</td>\n",
       "      <td>2.0</td>\n",
       "      <td>0</td>\n",
       "      <td>0</td>\n",
       "      <td>0</td>\n",
       "      <td>0</td>\n",
       "      <td>...</td>\n",
       "      <td>0</td>\n",
       "      <td>0</td>\n",
       "      <td>1</td>\n",
       "      <td>0</td>\n",
       "      <td>0</td>\n",
       "      <td>1</td>\n",
       "      <td>0</td>\n",
       "      <td>0</td>\n",
       "      <td>0</td>\n",
       "      <td>0</td>\n",
       "    </tr>\n",
       "    <tr>\n",
       "      <th>10778</th>\n",
       "      <td>2017</td>\n",
       "      <td>13100</td>\n",
       "      <td>25468</td>\n",
       "      <td>200</td>\n",
       "      <td>42.8</td>\n",
       "      <td>2.0</td>\n",
       "      <td>0</td>\n",
       "      <td>0</td>\n",
       "      <td>1</td>\n",
       "      <td>0</td>\n",
       "      <td>...</td>\n",
       "      <td>0</td>\n",
       "      <td>0</td>\n",
       "      <td>0</td>\n",
       "      <td>1</td>\n",
       "      <td>0</td>\n",
       "      <td>0</td>\n",
       "      <td>0</td>\n",
       "      <td>0</td>\n",
       "      <td>0</td>\n",
       "      <td>1</td>\n",
       "    </tr>\n",
       "    <tr>\n",
       "      <th>10779</th>\n",
       "      <td>2014</td>\n",
       "      <td>9930</td>\n",
       "      <td>45000</td>\n",
       "      <td>30</td>\n",
       "      <td>64.2</td>\n",
       "      <td>2.0</td>\n",
       "      <td>1</td>\n",
       "      <td>0</td>\n",
       "      <td>0</td>\n",
       "      <td>0</td>\n",
       "      <td>...</td>\n",
       "      <td>0</td>\n",
       "      <td>0</td>\n",
       "      <td>1</td>\n",
       "      <td>0</td>\n",
       "      <td>0</td>\n",
       "      <td>1</td>\n",
       "      <td>0</td>\n",
       "      <td>0</td>\n",
       "      <td>0</td>\n",
       "      <td>0</td>\n",
       "    </tr>\n",
       "    <tr>\n",
       "      <th>10780</th>\n",
       "      <td>2017</td>\n",
       "      <td>15981</td>\n",
       "      <td>59432</td>\n",
       "      <td>125</td>\n",
       "      <td>57.6</td>\n",
       "      <td>2.0</td>\n",
       "      <td>0</td>\n",
       "      <td>0</td>\n",
       "      <td>0</td>\n",
       "      <td>0</td>\n",
       "      <td>...</td>\n",
       "      <td>0</td>\n",
       "      <td>0</td>\n",
       "      <td>1</td>\n",
       "      <td>0</td>\n",
       "      <td>0</td>\n",
       "      <td>1</td>\n",
       "      <td>0</td>\n",
       "      <td>0</td>\n",
       "      <td>0</td>\n",
       "      <td>0</td>\n",
       "    </tr>\n",
       "  </tbody>\n",
       "</table>\n",
       "<p>10781 rows × 38 columns</p>\n",
       "</div>"
      ],
      "text/plain": [
       "       year  price  mileage  tax   mpg  engineSize  model_ 1 Series  \\\n",
       "0      2014  11200    67068  125  57.6         2.0                0   \n",
       "1      2018  27000    14827  145  42.8         2.0                0   \n",
       "2      2016  16000    62794  160  51.4         3.0                0   \n",
       "3      2017  12750    26676  145  72.4         1.5                1   \n",
       "4      2014  14500    39554  160  50.4         3.0                0   \n",
       "...     ...    ...      ...  ...   ...         ...              ...   \n",
       "10776  2016  19000    40818  150  54.3         2.0                0   \n",
       "10777  2016  14600    42947  125  60.1         2.0                0   \n",
       "10778  2017  13100    25468  200  42.8         2.0                0   \n",
       "10779  2014   9930    45000   30  64.2         2.0                1   \n",
       "10780  2017  15981    59432  125  57.6         2.0                0   \n",
       "\n",
       "       model_ 2 Series  model_ 3 Series  model_ 4 Series  ...  model_ i3  \\\n",
       "0                    0                0                0  ...          0   \n",
       "1                    0                0                0  ...          0   \n",
       "2                    0                0                0  ...          0   \n",
       "3                    0                0                0  ...          0   \n",
       "4                    0                0                0  ...          0   \n",
       "...                ...              ...              ...  ...        ...   \n",
       "10776                0                0                0  ...          0   \n",
       "10777                0                0                0  ...          0   \n",
       "10778                0                1                0  ...          0   \n",
       "10779                0                0                0  ...          0   \n",
       "10780                0                0                0  ...          0   \n",
       "\n",
       "       model_ i8  transmission_Automatic  transmission_Manual  \\\n",
       "0              0                       1                    0   \n",
       "1              0                       1                    0   \n",
       "2              0                       1                    0   \n",
       "3              0                       1                    0   \n",
       "4              0                       1                    0   \n",
       "...          ...                     ...                  ...   \n",
       "10776          0                       1                    0   \n",
       "10777          0                       1                    0   \n",
       "10778          0                       0                    1   \n",
       "10779          0                       1                    0   \n",
       "10780          0                       1                    0   \n",
       "\n",
       "       transmission_Semi-Auto  fuelType_Diesel  fuelType_Electric  \\\n",
       "0                           0                1                  0   \n",
       "1                           0                0                  0   \n",
       "2                           0                1                  0   \n",
       "3                           0                1                  0   \n",
       "4                           0                1                  0   \n",
       "...                       ...              ...                ...   \n",
       "10776                       0                1                  0   \n",
       "10777                       0                1                  0   \n",
       "10778                       0                0                  0   \n",
       "10779                       0                1                  0   \n",
       "10780                       0                1                  0   \n",
       "\n",
       "       fuelType_Hybrid  fuelType_Other  fuelType_Petrol  \n",
       "0                    0               0                0  \n",
       "1                    0               0                1  \n",
       "2                    0               0                0  \n",
       "3                    0               0                0  \n",
       "4                    0               0                0  \n",
       "...                ...             ...              ...  \n",
       "10776                0               0                0  \n",
       "10777                0               0                0  \n",
       "10778                0               0                1  \n",
       "10779                0               0                0  \n",
       "10780                0               0                0  \n",
       "\n",
       "[10781 rows x 38 columns]"
      ]
     },
     "execution_count": 6,
     "metadata": {},
     "output_type": "execute_result"
    }
   ],
   "source": [
    "df_onehot"
   ]
  },
  {
   "cell_type": "markdown",
   "metadata": {},
   "source": [
    "### Data Exploratory"
   ]
  },
  {
   "cell_type": "markdown",
   "metadata": {},
   "source": [
    "Visualize the data to get little bit insight about correlation of some columns and the price"
   ]
  },
  {
   "cell_type": "code",
   "execution_count": 7,
   "metadata": {},
   "outputs": [
    {
     "data": {
      "image/png": "[encoded data removed]",
      "text/plain": [
       "<Figure size 1296x1080 with 4 Axes>"
      ]
     },
     "metadata": {
      "needs_background": "light"
     },
     "output_type": "display_data"
    }
   ],
   "source": [
    "fig, axs = plt.subplots(2, 2,figsize=(18, 15))\n",
    "\n",
    "#Average vs year\n",
    "axs[0,0].bar(df[\"year\"].sort_values().unique(),df.groupby(['year']).mean()[\"price\"],color='orange')\n",
    "axs[0,0].set_title(\"Average Price vs Registration Year\")\n",
    "\n",
    "#Average vs engine size\n",
    "axs[1,0].plot(df[\"engineSize\"].sort_values().unique(),df.groupby(['engineSize']).mean()[\"price\"],color='blue')\n",
    "axs[1,0].set_title(\"Average Price vs Engine Size\")\n",
    "\n",
    "#Average vs model\n",
    "axs[1,1].barh(df[\"model\"].sort_values().unique(),df.groupby(['model']).mean()[\"price\"],color='green')\n",
    "axs[1,1].set_title(\"Average Price vs Model\")\n",
    "axs[1,1].tick_params(axis='x', rotation=90)\n",
    "\n",
    "#Price vs distance used\n",
    "axs[0,1].scatter(df[\"mileage\"],df[\"price\"],color='red')\n",
    "axs[0,1].set_title(\"Price vs Distance Used (Miles)\")\n",
    "\n",
    "plt.show()"
   ]
  },
  {
   "cell_type": "markdown",
   "metadata": {},
   "source": [
    "From the charts above, we can conclude:\n",
    "- Latest registration car is more expensive\n",
    "- Least used car is more expensive\n",
    "- Not all bigger engine size car is more expensive, but it show some correlation between the engine size and the price\n",
    "- X7, 8 Series, and i8 models are three most expensive bmw models"
   ]
  },
  {
   "cell_type": "code",
   "execution_count": 8,
   "metadata": {},
   "outputs": [
    {
     "data": {
      "image/png": "[encoded data removed]",
      "text/plain": [
       "<Figure size 1296x1080 with 4 Axes>"
      ]
     },
     "metadata": {
      "needs_background": "light"
     },
     "output_type": "display_data"
    }
   ],
   "source": [
    "fig, axs = plt.subplots(2, 2,figsize=(18, 15))\n",
    "\n",
    "#Cars per year\n",
    "axs[0,0].barh(df[\"year\"].sort_values().unique(),np.log1p(df.groupby(['year']).count()[\"price\"]),color='orange')\n",
    "plt.sca(axs[0,0])\n",
    "plt.yticks(df[\"year\"].sort_values().unique())\n",
    "axs[0,0].set_title(\"Cars per Registration Year (Log Scaled)\")\n",
    "\n",
    "#Models and enginesize\n",
    "axs[1,0].scatter(df[\"engineSize\"],df[\"model\"],color='red')\n",
    "axs[1,0].set_title(\"Variation of Engine Size per Model\")\n",
    "\n",
    "#Cars per engine size\n",
    "axs[1,1].plot(df[\"engineSize\"].sort_values().unique(),df.groupby(['engineSize']).count()[\"price\"],color='green')\n",
    "axs[1,1].set_title(\"Cars per Engine Size\")\n",
    "\n",
    "#Cars per Model\n",
    "axs[0,1].barh(df[\"model\"].sort_values().unique(),np.log1p(df.groupby(['model']).count()[\"price\"]),color='gray')\n",
    "axs[0,1].set_title(\"Cars per Model (Log Scaled)\")\n",
    "\n",
    "plt.show()"
   ]
  },
  {
   "cell_type": "markdown",
   "metadata": {},
   "source": [
    "From the charts, we can see:\n",
    "- 2019 cars are the most popular\n",
    "- '3 Series' model are the most popular car model\n",
    "- '3 Series' model has the most engine size variation (maybe this is one of the reason this model is popular)\n",
    "- Almost all model have the car with engine size 2\n",
    "- Cars with engine size 2 is the most popular "
   ]
  },
  {
   "cell_type": "markdown",
   "metadata": {},
   "source": [
    "The '3 Series' car model is significantly more popular than the other model.It happens too with engine size 2 amongst the other engine size.Because of those reason, I want to take an example about how many are listings for '3 Series' car with engine size 2? I will finding the cheapest and the most expensive too. I will utilize the onehot encoded data for this."
   ]
  },
  {
   "cell_type": "code",
   "execution_count": 9,
   "metadata": {},
   "outputs": [
    {
     "name": "stdout",
     "output_type": "stream",
     "text": [
      "There is 1897 listings of Series 3 car with engine size 2\n",
      "\n",
      "The cheapest Series 3 car with engine size 2 is:\n",
      "year          2002.0\n",
      "price         1445.0\n",
      "mileage          4.0\n",
      "tax              0.0\n",
      "mpg              8.8\n",
      "engineSize       2.0\n",
      "dtype: float64\n",
      "\n",
      "\n",
      "The most expensive Series 3 car with engine size 2 is:\n",
      "year            2020.0\n",
      "price          44320.0\n",
      "mileage       190000.0\n",
      "tax              330.0\n",
      "mpg              148.7\n",
      "engineSize         2.0\n",
      "dtype: float64\n"
     ]
    }
   ],
   "source": [
    "Series3_car=df_onehot.loc[df_onehot[\"model_ 3 Series\"]==1,[\"year\",\"price\",\"mileage\",\"tax\",\"mpg\",\"engineSize\"]]\n",
    "Series3_Engine2=Series3_car.loc[Series3_car[\"engineSize\"]==2]\n",
    "cheap=Series3_Engine2.min()\n",
    "expensive=Series3_Engine2.max()\n",
    "\n",
    "print(\"There is \"+str(Series3_Engine2.count()[\"year\"])+\" listings of Series 3 car with engine size 2\\n\")\n",
    "\n",
    "print(\"The cheapest Series 3 car with engine size 2 is:\")\n",
    "print(cheap)\n",
    "\n",
    "print(\"\\n\")\n",
    "\n",
    "print(\"The most expensive Series 3 car with engine size 2 is:\")\n",
    "print(expensive)"
   ]
  },
  {
   "cell_type": "markdown",
   "metadata": {},
   "source": [
    "The example above tell us that the data is much variated, even the specific model and the specific engine size still have quite difference in the year of registration, and the price."
   ]
  },
  {
   "cell_type": "markdown",
   "metadata": {},
   "source": [
    "Before moving to modelling this data, I want to check the correlation of the columns to the price column. The results is shown below"
   ]
  },
  {
   "cell_type": "code",
   "execution_count": 10,
   "metadata": {},
   "outputs": [
    {
     "data": {
      "text/plain": [
       "year                      0.389072\n",
       "mileage                   0.366505\n",
       "engineSize                0.211781\n",
       "transmission_Manual       0.154002\n",
       "transmission_Semi-Auto    0.125335\n",
       "model_ X5                 0.099677\n",
       "model_ X7                 0.087335\n",
       "model_ 1 Series           0.081921\n",
       "tax                       0.069424\n",
       "model_ 8 Series           0.047444\n",
       "mpg                       0.041977\n",
       "model_ M4                 0.037984\n",
       "model_ X6                 0.033944\n",
       "model_ M5                 0.025395\n",
       "model_ 3 Series           0.018297\n",
       "model_ 7 Series           0.015368\n",
       "model_ i8                 0.014242\n",
       "fuelType_Diesel           0.013078\n",
       "model_ X4                 0.012926\n",
       "model_ X3                 0.010437\n",
       "model_ 2 Series           0.010074\n",
       "fuelType_Petrol           0.009425\n",
       "model_ X2                 0.006972\n",
       "model_ M2                 0.006237\n",
       "model_ X1                 0.005262\n",
       "fuelType_Hybrid           0.004294\n",
       "model_ Z3                 0.001425\n",
       "model_ Z4                 0.001415\n",
       "model_ M3                 0.001083\n",
       "fuelType_Other            0.000530\n",
       "model_ M6                 0.000510\n",
       "model_ i3                 0.000508\n",
       "transmission_Automatic    0.000378\n",
       "model_ 6 Series           0.000204\n",
       "model_ 4 Series           0.000043\n",
       "fuelType_Electric         0.000039\n",
       "model_ 5 Series           0.000032\n",
       "Name: price, dtype: float64"
      ]
     },
     "execution_count": 10,
     "metadata": {},
     "output_type": "execute_result"
    }
   ],
   "source": [
    "(df_onehot.corr()[\"price\"]**2).sort_values(ascending = False)[1:,]"
   ]
  },
  {
   "cell_type": "markdown",
   "metadata": {},
   "source": [
    "The year and mileage are 2 most impactful factor for the car price. "
   ]
  },
  {
   "cell_type": "markdown",
   "metadata": {},
   "source": [
    "This is the histogram of the price of the cars"
   ]
  },
  {
   "cell_type": "code",
   "execution_count": 11,
   "metadata": {},
   "outputs": [
    {
     "data": {
      "image/png": "[encoded data removed]",
      "text/plain": [
       "<Figure size 432x288 with 1 Axes>"
      ]
     },
     "metadata": {
      "needs_background": "light"
     },
     "output_type": "display_data"
    },
    {
     "name": "stdout",
     "output_type": "stream",
     "text": [
      "Skewness : 1.5868864681260946\n",
      "Kurtosis : 4.021487604504699\n"
     ]
    }
   ],
   "source": [
    "plt.figure()\n",
    "sns.distplot(df_onehot.loc[:,'price'],norm_hist=True)\n",
    "plt.show()\n",
    "\n",
    "print(\"Skewness : \"+str(df_onehot['price'].skew()))\n",
    "print(\"Kurtosis : \"+str(df_onehot['price'].kurt()))"
   ]
  },
  {
   "cell_type": "markdown",
   "metadata": {},
   "source": [
    "The histogram above show quite large positive skewness, it can be reduced by scaling the price but I will do this later. For comparison, I will try some models with the normal data first."
   ]
  },
  {
   "cell_type": "markdown",
   "metadata": {},
   "source": [
    "### Test on several regression models with the normal data"
   ]
  },
  {
   "cell_type": "code",
   "execution_count": 26,
   "metadata": {},
   "outputs": [],
   "source": [
    "from sklearn.model_selection import train_test_split\n",
    "X = df_onehot.drop(['price'],axis=1)\n",
    "y = df_onehot['price']\n",
    "X_train,X_test,y_train,y_test = train_test_split(X,y,test_size=0.2,random_state=25)"
   ]
  },
  {
   "cell_type": "code",
   "execution_count": 27,
   "metadata": {},
   "outputs": [
    {
     "name": "stdout",
     "output_type": "stream",
     "text": [
      "Model Score : 86.67343058185982%\n",
      "Accuracy on Test Data : 86.93183284854018%\n"
     ]
    }
   ],
   "source": [
    "from sklearn.linear_model import LinearRegression\n",
    "Linear = LinearRegression()\n",
    "Linear.fit(X_train,y_train)\n",
    "print(\"Model Score : \"+str(Linear.score(X_train,y_train)*100)+\"%\")\n",
    "print(\"Accuracy on Test Data : \"+str(Linear.score(X_test,y_test)*100)+\"%\")"
   ]
  },
  {
   "cell_type": "code",
   "execution_count": 28,
   "metadata": {},
   "outputs": [
    {
     "name": "stdout",
     "output_type": "stream",
     "text": [
      "Model Score : 86.67287411282932%\n",
      "Accuracy on Test Data : 86.93207290093864%\n"
     ]
    }
   ],
   "source": [
    "from sklearn.linear_model import BayesianRidge\n",
    "Bayes = BayesianRidge()\n",
    "Bayes.fit(X_train,y_train)\n",
    "print(\"Model Score : \"+str(Bayes.score(X_train,y_train)*100)+\"%\")\n",
    "print(\"Accuracy on Test Data : \"+str(Bayes.score(X_test,y_test)*100)+\"%\")"
   ]
  },
  {
   "cell_type": "code",
   "execution_count": 29,
   "metadata": {},
   "outputs": [
    {
     "name": "stdout",
     "output_type": "stream",
     "text": [
      "Model Score : 99.96132494062715%\n",
      "Accuracy on Test Data : 90.85308521050337%\n"
     ]
    }
   ],
   "source": [
    "from sklearn.tree import DecisionTreeRegressor\n",
    "DTR = DecisionTreeRegressor(random_state=0)\n",
    "DTR.fit(X_train,y_train)\n",
    "print(\"Model Score : \"+str(DTR.score(X_train,y_train)*100)+\"%\")\n",
    "print(\"Accuracy on Test Data : \"+str(DTR.score(X_test,y_test)*100)+\"%\")"
   ]
  },
  {
   "cell_type": "code",
   "execution_count": 30,
   "metadata": {},
   "outputs": [
    {
     "name": "stdout",
     "output_type": "stream",
     "text": [
      "Model Score : 86.60054880278679%\n",
      "Accuracy on Test Data : 86.89980397796587%\n"
     ]
    }
   ],
   "source": [
    "from sklearn.linear_model import Ridge\n",
    "Ridge=Ridge(alpha=2,random_state=1)\n",
    "Ridge.fit(X_train,y_train)\n",
    "print(\"Model Score : \"+str(Ridge.score(X_train,y_train)*100)+\"%\")\n",
    "print(\"Accuracy on Test Data : \"+str(Ridge.score(X_test,y_test)*100)+\"%\")"
   ]
  },
  {
   "cell_type": "code",
   "execution_count": 31,
   "metadata": {
    "scrolled": true
   },
   "outputs": [
    {
     "name": "stdout",
     "output_type": "stream",
     "text": [
      "Model Score : 93.53312092783224%\n",
      "Accuracy on Test Data : 93.0378687666639%\n"
     ]
    }
   ],
   "source": [
    "from sklearn.ensemble import GradientBoostingRegressor\n",
    "GBR=GradientBoostingRegressor(random_state=0)\n",
    "GBR.fit(X_train,y_train)\n",
    "print(\"Model Score : \"+str(GBR.score(X_train,y_train)*100)+\"%\")\n",
    "print(\"Accuracy on Test Data : \"+str(GBR.score(X_test,y_test)*100)+\"%\")"
   ]
  },
  {
   "cell_type": "markdown",
   "metadata": {},
   "source": [
    "From the results above the GradientBoosting regression model is the best models for the normal data, the result with that model is shown below."
   ]
  },
  {
   "cell_type": "code",
   "execution_count": 32,
   "metadata": {},
   "outputs": [
    {
     "data": {
      "text/html": [
       "<div>\n",
       "<style scoped>\n",
       "    .dataframe tbody tr th:only-of-type {\n",
       "        vertical-align: middle;\n",
       "    }\n",
       "\n",
       "    .dataframe tbody tr th {\n",
       "        vertical-align: top;\n",
       "    }\n",
       "\n",
       "    .dataframe thead th {\n",
       "        text-align: right;\n",
       "    }\n",
       "</style>\n",
       "<table border=\"1\" class=\"dataframe\">\n",
       "  <thead>\n",
       "    <tr style=\"text-align: right;\">\n",
       "      <th></th>\n",
       "      <th>actual</th>\n",
       "      <th>predicted</th>\n",
       "    </tr>\n",
       "  </thead>\n",
       "  <tbody>\n",
       "    <tr>\n",
       "      <th>9277</th>\n",
       "      <td>8975</td>\n",
       "      <td>10227.64</td>\n",
       "    </tr>\n",
       "    <tr>\n",
       "      <th>1623</th>\n",
       "      <td>48090</td>\n",
       "      <td>51244.51</td>\n",
       "    </tr>\n",
       "    <tr>\n",
       "      <th>7957</th>\n",
       "      <td>13350</td>\n",
       "      <td>13683.31</td>\n",
       "    </tr>\n",
       "    <tr>\n",
       "      <th>3462</th>\n",
       "      <td>26980</td>\n",
       "      <td>28406.92</td>\n",
       "    </tr>\n",
       "    <tr>\n",
       "      <th>10689</th>\n",
       "      <td>14200</td>\n",
       "      <td>13912.58</td>\n",
       "    </tr>\n",
       "    <tr>\n",
       "      <th>...</th>\n",
       "      <td>...</td>\n",
       "      <td>...</td>\n",
       "    </tr>\n",
       "    <tr>\n",
       "      <th>2741</th>\n",
       "      <td>24775</td>\n",
       "      <td>26091.23</td>\n",
       "    </tr>\n",
       "    <tr>\n",
       "      <th>6089</th>\n",
       "      <td>20572</td>\n",
       "      <td>17322.04</td>\n",
       "    </tr>\n",
       "    <tr>\n",
       "      <th>4917</th>\n",
       "      <td>26995</td>\n",
       "      <td>24610.80</td>\n",
       "    </tr>\n",
       "    <tr>\n",
       "      <th>6910</th>\n",
       "      <td>17985</td>\n",
       "      <td>16414.69</td>\n",
       "    </tr>\n",
       "    <tr>\n",
       "      <th>5069</th>\n",
       "      <td>12890</td>\n",
       "      <td>12210.70</td>\n",
       "    </tr>\n",
       "  </tbody>\n",
       "</table>\n",
       "<p>2157 rows × 2 columns</p>\n",
       "</div>"
      ],
      "text/plain": [
       "       actual  predicted\n",
       "9277     8975   10227.64\n",
       "1623    48090   51244.51\n",
       "7957    13350   13683.31\n",
       "3462    26980   28406.92\n",
       "10689   14200   13912.58\n",
       "...       ...        ...\n",
       "2741    24775   26091.23\n",
       "6089    20572   17322.04\n",
       "4917    26995   24610.80\n",
       "6910    17985   16414.69\n",
       "5069    12890   12210.70\n",
       "\n",
       "[2157 rows x 2 columns]"
      ]
     },
     "execution_count": 32,
     "metadata": {},
     "output_type": "execute_result"
    }
   ],
   "source": [
    "result=X_test.copy()\n",
    "result[\"predicted\"]=GBR.predict(X_test)\n",
    "result[\"actual\"]=y_test\n",
    "result=result[[\"actual\",\"predicted\"]]\n",
    "result[\"predicted\"]=result[\"predicted\"].round(2)\n",
    "result"
   ]
  },
  {
   "cell_type": "markdown",
   "metadata": {},
   "source": [
    "## Scaling the Data\n",
    "I will use the log scaler to scale the price. The values below will show correlation of the columns to price column after the scaling."
   ]
  },
  {
   "cell_type": "code",
   "execution_count": 33,
   "metadata": {},
   "outputs": [
    {
     "data": {
      "text/html": [
       "<div>\n",
       "<style scoped>\n",
       "    .dataframe tbody tr th:only-of-type {\n",
       "        vertical-align: middle;\n",
       "    }\n",
       "\n",
       "    .dataframe tbody tr th {\n",
       "        vertical-align: top;\n",
       "    }\n",
       "\n",
       "    .dataframe thead th {\n",
       "        text-align: right;\n",
       "    }\n",
       "</style>\n",
       "<table border=\"1\" class=\"dataframe\">\n",
       "  <thead>\n",
       "    <tr style=\"text-align: right;\">\n",
       "      <th></th>\n",
       "      <th>year</th>\n",
       "      <th>price</th>\n",
       "      <th>mileage</th>\n",
       "      <th>tax</th>\n",
       "      <th>mpg</th>\n",
       "      <th>engineSize</th>\n",
       "      <th>model_ 1 Series</th>\n",
       "      <th>model_ 2 Series</th>\n",
       "      <th>model_ 3 Series</th>\n",
       "      <th>model_ 4 Series</th>\n",
       "      <th>...</th>\n",
       "      <th>model_ i3</th>\n",
       "      <th>model_ i8</th>\n",
       "      <th>transmission_Automatic</th>\n",
       "      <th>transmission_Manual</th>\n",
       "      <th>transmission_Semi-Auto</th>\n",
       "      <th>fuelType_Diesel</th>\n",
       "      <th>fuelType_Electric</th>\n",
       "      <th>fuelType_Hybrid</th>\n",
       "      <th>fuelType_Other</th>\n",
       "      <th>fuelType_Petrol</th>\n",
       "    </tr>\n",
       "  </thead>\n",
       "  <tbody>\n",
       "    <tr>\n",
       "      <th>0</th>\n",
       "      <td>2014</td>\n",
       "      <td>9.323758</td>\n",
       "      <td>67068</td>\n",
       "      <td>125</td>\n",
       "      <td>57.6</td>\n",
       "      <td>2.0</td>\n",
       "      <td>0</td>\n",
       "      <td>0</td>\n",
       "      <td>0</td>\n",
       "      <td>0</td>\n",
       "      <td>...</td>\n",
       "      <td>0</td>\n",
       "      <td>0</td>\n",
       "      <td>1</td>\n",
       "      <td>0</td>\n",
       "      <td>0</td>\n",
       "      <td>1</td>\n",
       "      <td>0</td>\n",
       "      <td>0</td>\n",
       "      <td>0</td>\n",
       "      <td>0</td>\n",
       "    </tr>\n",
       "    <tr>\n",
       "      <th>1</th>\n",
       "      <td>2018</td>\n",
       "      <td>10.203629</td>\n",
       "      <td>14827</td>\n",
       "      <td>145</td>\n",
       "      <td>42.8</td>\n",
       "      <td>2.0</td>\n",
       "      <td>0</td>\n",
       "      <td>0</td>\n",
       "      <td>0</td>\n",
       "      <td>0</td>\n",
       "      <td>...</td>\n",
       "      <td>0</td>\n",
       "      <td>0</td>\n",
       "      <td>1</td>\n",
       "      <td>0</td>\n",
       "      <td>0</td>\n",
       "      <td>0</td>\n",
       "      <td>0</td>\n",
       "      <td>0</td>\n",
       "      <td>0</td>\n",
       "      <td>1</td>\n",
       "    </tr>\n",
       "    <tr>\n",
       "      <th>2</th>\n",
       "      <td>2016</td>\n",
       "      <td>9.680406</td>\n",
       "      <td>62794</td>\n",
       "      <td>160</td>\n",
       "      <td>51.4</td>\n",
       "      <td>3.0</td>\n",
       "      <td>0</td>\n",
       "      <td>0</td>\n",
       "      <td>0</td>\n",
       "      <td>0</td>\n",
       "      <td>...</td>\n",
       "      <td>0</td>\n",
       "      <td>0</td>\n",
       "      <td>1</td>\n",
       "      <td>0</td>\n",
       "      <td>0</td>\n",
       "      <td>1</td>\n",
       "      <td>0</td>\n",
       "      <td>0</td>\n",
       "      <td>0</td>\n",
       "      <td>0</td>\n",
       "    </tr>\n",
       "    <tr>\n",
       "      <th>3</th>\n",
       "      <td>2017</td>\n",
       "      <td>9.453365</td>\n",
       "      <td>26676</td>\n",
       "      <td>145</td>\n",
       "      <td>72.4</td>\n",
       "      <td>1.5</td>\n",
       "      <td>1</td>\n",
       "      <td>0</td>\n",
       "      <td>0</td>\n",
       "      <td>0</td>\n",
       "      <td>...</td>\n",
       "      <td>0</td>\n",
       "      <td>0</td>\n",
       "      <td>1</td>\n",
       "      <td>0</td>\n",
       "      <td>0</td>\n",
       "      <td>1</td>\n",
       "      <td>0</td>\n",
       "      <td>0</td>\n",
       "      <td>0</td>\n",
       "      <td>0</td>\n",
       "    </tr>\n",
       "    <tr>\n",
       "      <th>4</th>\n",
       "      <td>2014</td>\n",
       "      <td>9.581973</td>\n",
       "      <td>39554</td>\n",
       "      <td>160</td>\n",
       "      <td>50.4</td>\n",
       "      <td>3.0</td>\n",
       "      <td>0</td>\n",
       "      <td>0</td>\n",
       "      <td>0</td>\n",
       "      <td>0</td>\n",
       "      <td>...</td>\n",
       "      <td>0</td>\n",
       "      <td>0</td>\n",
       "      <td>1</td>\n",
       "      <td>0</td>\n",
       "      <td>0</td>\n",
       "      <td>1</td>\n",
       "      <td>0</td>\n",
       "      <td>0</td>\n",
       "      <td>0</td>\n",
       "      <td>0</td>\n",
       "    </tr>\n",
       "    <tr>\n",
       "      <th>...</th>\n",
       "      <td>...</td>\n",
       "      <td>...</td>\n",
       "      <td>...</td>\n",
       "      <td>...</td>\n",
       "      <td>...</td>\n",
       "      <td>...</td>\n",
       "      <td>...</td>\n",
       "      <td>...</td>\n",
       "      <td>...</td>\n",
       "      <td>...</td>\n",
       "      <td>...</td>\n",
       "      <td>...</td>\n",
       "      <td>...</td>\n",
       "      <td>...</td>\n",
       "      <td>...</td>\n",
       "      <td>...</td>\n",
       "      <td>...</td>\n",
       "      <td>...</td>\n",
       "      <td>...</td>\n",
       "      <td>...</td>\n",
       "      <td>...</td>\n",
       "    </tr>\n",
       "    <tr>\n",
       "      <th>10776</th>\n",
       "      <td>2016</td>\n",
       "      <td>9.852247</td>\n",
       "      <td>40818</td>\n",
       "      <td>150</td>\n",
       "      <td>54.3</td>\n",
       "      <td>2.0</td>\n",
       "      <td>0</td>\n",
       "      <td>0</td>\n",
       "      <td>0</td>\n",
       "      <td>0</td>\n",
       "      <td>...</td>\n",
       "      <td>0</td>\n",
       "      <td>0</td>\n",
       "      <td>1</td>\n",
       "      <td>0</td>\n",
       "      <td>0</td>\n",
       "      <td>1</td>\n",
       "      <td>0</td>\n",
       "      <td>0</td>\n",
       "      <td>0</td>\n",
       "      <td>0</td>\n",
       "    </tr>\n",
       "    <tr>\n",
       "      <th>10777</th>\n",
       "      <td>2016</td>\n",
       "      <td>9.588845</td>\n",
       "      <td>42947</td>\n",
       "      <td>125</td>\n",
       "      <td>60.1</td>\n",
       "      <td>2.0</td>\n",
       "      <td>0</td>\n",
       "      <td>0</td>\n",
       "      <td>0</td>\n",
       "      <td>0</td>\n",
       "      <td>...</td>\n",
       "      <td>0</td>\n",
       "      <td>0</td>\n",
       "      <td>1</td>\n",
       "      <td>0</td>\n",
       "      <td>0</td>\n",
       "      <td>1</td>\n",
       "      <td>0</td>\n",
       "      <td>0</td>\n",
       "      <td>0</td>\n",
       "      <td>0</td>\n",
       "    </tr>\n",
       "    <tr>\n",
       "      <th>10778</th>\n",
       "      <td>2017</td>\n",
       "      <td>9.480444</td>\n",
       "      <td>25468</td>\n",
       "      <td>200</td>\n",
       "      <td>42.8</td>\n",
       "      <td>2.0</td>\n",
       "      <td>0</td>\n",
       "      <td>0</td>\n",
       "      <td>1</td>\n",
       "      <td>0</td>\n",
       "      <td>...</td>\n",
       "      <td>0</td>\n",
       "      <td>0</td>\n",
       "      <td>0</td>\n",
       "      <td>1</td>\n",
       "      <td>0</td>\n",
       "      <td>0</td>\n",
       "      <td>0</td>\n",
       "      <td>0</td>\n",
       "      <td>0</td>\n",
       "      <td>1</td>\n",
       "    </tr>\n",
       "    <tr>\n",
       "      <th>10779</th>\n",
       "      <td>2014</td>\n",
       "      <td>9.203416</td>\n",
       "      <td>45000</td>\n",
       "      <td>30</td>\n",
       "      <td>64.2</td>\n",
       "      <td>2.0</td>\n",
       "      <td>1</td>\n",
       "      <td>0</td>\n",
       "      <td>0</td>\n",
       "      <td>0</td>\n",
       "      <td>...</td>\n",
       "      <td>0</td>\n",
       "      <td>0</td>\n",
       "      <td>1</td>\n",
       "      <td>0</td>\n",
       "      <td>0</td>\n",
       "      <td>1</td>\n",
       "      <td>0</td>\n",
       "      <td>0</td>\n",
       "      <td>0</td>\n",
       "      <td>0</td>\n",
       "    </tr>\n",
       "    <tr>\n",
       "      <th>10780</th>\n",
       "      <td>2017</td>\n",
       "      <td>9.679218</td>\n",
       "      <td>59432</td>\n",
       "      <td>125</td>\n",
       "      <td>57.6</td>\n",
       "      <td>2.0</td>\n",
       "      <td>0</td>\n",
       "      <td>0</td>\n",
       "      <td>0</td>\n",
       "      <td>0</td>\n",
       "      <td>...</td>\n",
       "      <td>0</td>\n",
       "      <td>0</td>\n",
       "      <td>1</td>\n",
       "      <td>0</td>\n",
       "      <td>0</td>\n",
       "      <td>1</td>\n",
       "      <td>0</td>\n",
       "      <td>0</td>\n",
       "      <td>0</td>\n",
       "      <td>0</td>\n",
       "    </tr>\n",
       "  </tbody>\n",
       "</table>\n",
       "<p>10781 rows × 38 columns</p>\n",
       "</div>"
      ],
      "text/plain": [
       "       year      price  mileage  tax   mpg  engineSize  model_ 1 Series  \\\n",
       "0      2014   9.323758    67068  125  57.6         2.0                0   \n",
       "1      2018  10.203629    14827  145  42.8         2.0                0   \n",
       "2      2016   9.680406    62794  160  51.4         3.0                0   \n",
       "3      2017   9.453365    26676  145  72.4         1.5                1   \n",
       "4      2014   9.581973    39554  160  50.4         3.0                0   \n",
       "...     ...        ...      ...  ...   ...         ...              ...   \n",
       "10776  2016   9.852247    40818  150  54.3         2.0                0   \n",
       "10777  2016   9.588845    42947  125  60.1         2.0                0   \n",
       "10778  2017   9.480444    25468  200  42.8         2.0                0   \n",
       "10779  2014   9.203416    45000   30  64.2         2.0                1   \n",
       "10780  2017   9.679218    59432  125  57.6         2.0                0   \n",
       "\n",
       "       model_ 2 Series  model_ 3 Series  model_ 4 Series  ...  model_ i3  \\\n",
       "0                    0                0                0  ...          0   \n",
       "1                    0                0                0  ...          0   \n",
       "2                    0                0                0  ...          0   \n",
       "3                    0                0                0  ...          0   \n",
       "4                    0                0                0  ...          0   \n",
       "...                ...              ...              ...  ...        ...   \n",
       "10776                0                0                0  ...          0   \n",
       "10777                0                0                0  ...          0   \n",
       "10778                0                1                0  ...          0   \n",
       "10779                0                0                0  ...          0   \n",
       "10780                0                0                0  ...          0   \n",
       "\n",
       "       model_ i8  transmission_Automatic  transmission_Manual  \\\n",
       "0              0                       1                    0   \n",
       "1              0                       1                    0   \n",
       "2              0                       1                    0   \n",
       "3              0                       1                    0   \n",
       "4              0                       1                    0   \n",
       "...          ...                     ...                  ...   \n",
       "10776          0                       1                    0   \n",
       "10777          0                       1                    0   \n",
       "10778          0                       0                    1   \n",
       "10779          0                       1                    0   \n",
       "10780          0                       1                    0   \n",
       "\n",
       "       transmission_Semi-Auto  fuelType_Diesel  fuelType_Electric  \\\n",
       "0                           0                1                  0   \n",
       "1                           0                0                  0   \n",
       "2                           0                1                  0   \n",
       "3                           0                1                  0   \n",
       "4                           0                1                  0   \n",
       "...                       ...              ...                ...   \n",
       "10776                       0                1                  0   \n",
       "10777                       0                1                  0   \n",
       "10778                       0                0                  0   \n",
       "10779                       0                1                  0   \n",
       "10780                       0                1                  0   \n",
       "\n",
       "       fuelType_Hybrid  fuelType_Other  fuelType_Petrol  \n",
       "0                    0               0                0  \n",
       "1                    0               0                1  \n",
       "2                    0               0                0  \n",
       "3                    0               0                0  \n",
       "4                    0               0                0  \n",
       "...                ...             ...              ...  \n",
       "10776                0               0                0  \n",
       "10777                0               0                0  \n",
       "10778                0               0                1  \n",
       "10779                0               0                0  \n",
       "10780                0               0                0  \n",
       "\n",
       "[10781 rows x 38 columns]"
      ]
     },
     "execution_count": 33,
     "metadata": {},
     "output_type": "execute_result"
    }
   ],
   "source": [
    "df_log = df_onehot.copy()\n",
    "df_log[\"price\"]=np.log1p(df_log[\"price\"])\n",
    "\n",
    "df_log"
   ]
  },
  {
   "cell_type": "code",
   "execution_count": 25,
   "metadata": {
    "scrolled": true
   },
   "outputs": [
    {
     "data": {
      "text/plain": [
       "year                      0.591290\n",
       "mileage                   0.539922\n",
       "transmission_Manual       0.216008\n",
       "transmission_Semi-Auto    0.166669\n",
       "engineSize                0.160069\n",
       "model_ 1 Series           0.098536\n",
       "tax                       0.087783\n",
       "model_ X5                 0.070744\n",
       "model_ X7                 0.033490\n",
       "mpg                       0.032203\n",
       "model_ M4                 0.026827\n",
       "model_ X6                 0.020455\n",
       "model_ 8 Series           0.020295\n",
       "model_ 3 Series           0.017474\n",
       "fuelType_Diesel           0.016373\n",
       "model_ X4                 0.013330\n",
       "model_ X2                 0.012785\n",
       "fuelType_Petrol           0.011690\n",
       "model_ X3                 0.011574\n",
       "model_ M5                 0.010964\n",
       "model_ 7 Series           0.010125\n",
       "model_ i8                 0.006975\n",
       "model_ Z3                 0.005338\n",
       "fuelType_Hybrid           0.005046\n",
       "model_ M2                 0.004612\n",
       "model_ 2 Series           0.003509\n",
       "model_ X1                 0.001825\n",
       "model_ 4 Series           0.001744\n",
       "model_ Z4                 0.001087\n",
       "model_ M3                 0.001036\n",
       "model_ 6 Series           0.000553\n",
       "model_ M6                 0.000525\n",
       "fuelType_Other            0.000265\n",
       "model_ i3                 0.000151\n",
       "model_ 5 Series           0.000146\n",
       "transmission_Automatic    0.000131\n",
       "fuelType_Electric         0.000011\n",
       "Name: price, dtype: float64"
      ]
     },
     "execution_count": 25,
     "metadata": {},
     "output_type": "execute_result"
    }
   ],
   "source": [
    "(df_log.corr()[\"price\"]**2).sort_values(ascending = False)[1:,]"
   ]
  },
  {
   "cell_type": "markdown",
   "metadata": {},
   "source": [
    "After log scaling, check the skewness again."
   ]
  },
  {
   "cell_type": "code",
   "execution_count": 34,
   "metadata": {},
   "outputs": [
    {
     "data": {
      "image/png": "[encoded data removed]",
      "text/plain": [
       "<Figure size 432x288 with 1 Axes>"
      ]
     },
     "metadata": {
      "needs_background": "light"
     },
     "output_type": "display_data"
    },
    {
     "name": "stdout",
     "output_type": "stream",
     "text": [
      "Skewness : -0.2365544233296209\n",
      "Kurtosis : 1.0966895772522052\n"
     ]
    }
   ],
   "source": [
    "plt.figure()\n",
    "sns.distplot(df_log.loc[:,'price'],norm_hist=True)\n",
    "plt.show()\n",
    "\n",
    "print(\"Skewness : \"+str(df_log['price'].skew()))\n",
    "print(\"Kurtosis : \"+str(df_log['price'].kurt()))"
   ]
  },
  {
   "cell_type": "markdown",
   "metadata": {},
   "source": [
    "The skewness is much better than the last time."
   ]
  },
  {
   "cell_type": "markdown",
   "metadata": {},
   "source": [
    "## Test on the new data with the same models"
   ]
  },
  {
   "cell_type": "code",
   "execution_count": 35,
   "metadata": {},
   "outputs": [],
   "source": [
    "from sklearn.model_selection import train_test_split\n",
    "Xlog = df_log.drop(['price'],axis=1)\n",
    "ylog = df_log['price']\n",
    "Xlog_train,Xlog_test,ylog_train,ylog_test = train_test_split(Xlog,ylog,test_size=0.2,random_state=25)"
   ]
  },
  {
   "cell_type": "code",
   "execution_count": 36,
   "metadata": {},
   "outputs": [
    {
     "name": "stdout",
     "output_type": "stream",
     "text": [
      "Model Score : 93.03840200085519%\n",
      "Accuracy on Test Data : 93.99213545473631%\n"
     ]
    }
   ],
   "source": [
    "from sklearn.linear_model import LinearRegression\n",
    "Linear_log = LinearRegression()\n",
    "Linear_log.fit(Xlog_train,ylog_train)\n",
    "print(\"Model Score : \"+str(Linear_log.score(Xlog_train,ylog_train)*100)+\"%\")\n",
    "print(\"Accuracy on Test Data : \"+str(Linear_log.score(Xlog_test,ylog_test)*100)+\"%\")"
   ]
  },
  {
   "cell_type": "code",
   "execution_count": 37,
   "metadata": {},
   "outputs": [
    {
     "name": "stdout",
     "output_type": "stream",
     "text": [
      "Model Score : 93.03791028984882%\n",
      "Accuracy on Test Data : 93.99266017692476%\n"
     ]
    }
   ],
   "source": [
    "from sklearn.linear_model import BayesianRidge\n",
    "Bayes_log = BayesianRidge()\n",
    "Bayes_log.fit(Xlog_train,ylog_train)\n",
    "print(\"Model Score : \"+str(Bayes_log.score(Xlog_train,ylog_train)*100)+\"%\")\n",
    "print(\"Accuracy on Test Data : \"+str(Bayes_log.score(Xlog_test,ylog_test)*100)+\"%\")"
   ]
  },
  {
   "cell_type": "code",
   "execution_count": 38,
   "metadata": {},
   "outputs": [
    {
     "name": "stdout",
     "output_type": "stream",
     "text": [
      "Model Score : 99.98060043488503%\n",
      "Accuracy on Test Data : 91.6201228424032%\n"
     ]
    }
   ],
   "source": [
    "from sklearn.tree import DecisionTreeRegressor\n",
    "DTR_log = DecisionTreeRegressor(random_state=0)\n",
    "DTR_log.fit(Xlog_train,ylog_train)\n",
    "print(\"Model Score : \"+str(DTR_log.score(Xlog_train,ylog_train)*100)+\"%\")\n",
    "print(\"Accuracy on Test Data : \"+str(DTR_log.score(Xlog_test,ylog_test)*100)+\"%\")"
   ]
  },
  {
   "cell_type": "code",
   "execution_count": 39,
   "metadata": {},
   "outputs": [
    {
     "name": "stdout",
     "output_type": "stream",
     "text": [
      "Model Score : 93.00350372522816%\n",
      "Accuracy on Test Data : 93.97779338771566%\n"
     ]
    }
   ],
   "source": [
    "from sklearn.linear_model import Ridge\n",
    "Ridge_log=Ridge(alpha=2,random_state=1)\n",
    "Ridge_log.fit(Xlog_train,ylog_train)\n",
    "print(\"Model Score : \"+str(Ridge_log.score(Xlog_train,ylog_train)*100)+\"%\")\n",
    "print(\"Accuracy on Test Data : \"+str(Ridge_log.score(Xlog_test,ylog_test)*100)+\"%\")"
   ]
  },
  {
   "cell_type": "code",
   "execution_count": 40,
   "metadata": {},
   "outputs": [
    {
     "name": "stdout",
     "output_type": "stream",
     "text": [
      "Model Score : 94.58433582197769%\n",
      "Accuracy on Test Data : 94.57989236106165%\n"
     ]
    }
   ],
   "source": [
    "from sklearn.ensemble import GradientBoostingRegressor\n",
    "GBR_log=GradientBoostingRegressor(random_state=0)\n",
    "GBR_log.fit(Xlog_train,ylog_train)\n",
    "print(\"Model Score : \"+str(GBR_log.score(Xlog_train,ylog_train)*100)+\"%\")\n",
    "print(\"Accuracy on Test Data : \"+str(GBR_log.score(Xlog_test,ylog_test)*100)+\"%\")"
   ]
  },
  {
   "cell_type": "markdown",
   "metadata": {},
   "source": [
    "Overall, the result after log scaling is better with all the models, and the best accuracy on test data is showed by Gradient Boosting Regressor. The overall results is shown below."
   ]
  },
  {
   "cell_type": "code",
   "execution_count": 41,
   "metadata": {},
   "outputs": [
    {
     "data": {
      "text/html": [
       "<div>\n",
       "<style scoped>\n",
       "    .dataframe tbody tr th:only-of-type {\n",
       "        vertical-align: middle;\n",
       "    }\n",
       "\n",
       "    .dataframe tbody tr th {\n",
       "        vertical-align: top;\n",
       "    }\n",
       "\n",
       "    .dataframe thead th {\n",
       "        text-align: right;\n",
       "    }\n",
       "</style>\n",
       "<table border=\"1\" class=\"dataframe\">\n",
       "  <thead>\n",
       "    <tr style=\"text-align: right;\">\n",
       "      <th></th>\n",
       "      <th>actual</th>\n",
       "      <th>predicted</th>\n",
       "      <th>predicted with log</th>\n",
       "    </tr>\n",
       "  </thead>\n",
       "  <tbody>\n",
       "    <tr>\n",
       "      <th>9277</th>\n",
       "      <td>8975</td>\n",
       "      <td>10227.64</td>\n",
       "      <td>10293.93</td>\n",
       "    </tr>\n",
       "    <tr>\n",
       "      <th>1623</th>\n",
       "      <td>48090</td>\n",
       "      <td>51244.51</td>\n",
       "      <td>50776.86</td>\n",
       "    </tr>\n",
       "    <tr>\n",
       "      <th>7957</th>\n",
       "      <td>13350</td>\n",
       "      <td>13683.31</td>\n",
       "      <td>13428.54</td>\n",
       "    </tr>\n",
       "    <tr>\n",
       "      <th>3462</th>\n",
       "      <td>26980</td>\n",
       "      <td>28406.92</td>\n",
       "      <td>29246.64</td>\n",
       "    </tr>\n",
       "    <tr>\n",
       "      <th>10689</th>\n",
       "      <td>14200</td>\n",
       "      <td>13912.58</td>\n",
       "      <td>13954.15</td>\n",
       "    </tr>\n",
       "    <tr>\n",
       "      <th>...</th>\n",
       "      <td>...</td>\n",
       "      <td>...</td>\n",
       "      <td>...</td>\n",
       "    </tr>\n",
       "    <tr>\n",
       "      <th>2741</th>\n",
       "      <td>24775</td>\n",
       "      <td>26091.23</td>\n",
       "      <td>25827.39</td>\n",
       "    </tr>\n",
       "    <tr>\n",
       "      <th>6089</th>\n",
       "      <td>20572</td>\n",
       "      <td>17322.04</td>\n",
       "      <td>15747.79</td>\n",
       "    </tr>\n",
       "    <tr>\n",
       "      <th>4917</th>\n",
       "      <td>26995</td>\n",
       "      <td>24610.80</td>\n",
       "      <td>24207.87</td>\n",
       "    </tr>\n",
       "    <tr>\n",
       "      <th>6910</th>\n",
       "      <td>17985</td>\n",
       "      <td>16414.69</td>\n",
       "      <td>16043.61</td>\n",
       "    </tr>\n",
       "    <tr>\n",
       "      <th>5069</th>\n",
       "      <td>12890</td>\n",
       "      <td>12210.70</td>\n",
       "      <td>12458.83</td>\n",
       "    </tr>\n",
       "  </tbody>\n",
       "</table>\n",
       "<p>2157 rows × 3 columns</p>\n",
       "</div>"
      ],
      "text/plain": [
       "       actual  predicted  predicted with log\n",
       "9277     8975   10227.64            10293.93\n",
       "1623    48090   51244.51            50776.86\n",
       "7957    13350   13683.31            13428.54\n",
       "3462    26980   28406.92            29246.64\n",
       "10689   14200   13912.58            13954.15\n",
       "...       ...        ...                 ...\n",
       "2741    24775   26091.23            25827.39\n",
       "6089    20572   17322.04            15747.79\n",
       "4917    26995   24610.80            24207.87\n",
       "6910    17985   16414.69            16043.61\n",
       "5069    12890   12210.70            12458.83\n",
       "\n",
       "[2157 rows x 3 columns]"
      ]
     },
     "execution_count": 41,
     "metadata": {},
     "output_type": "execute_result"
    }
   ],
   "source": [
    "result_log=result.copy()\n",
    "result_log[\"predicted with log\"]=GBR_log.predict(X_test)\n",
    "result_log[\"predicted with log\"]=np.expm1(result_log[\"predicted with log\"]).round(2)\n",
    "result_log"
   ]
  },
  {
   "cell_type": "markdown",
   "metadata": {},
   "source": [
    "Chart below shown the plot of actual and predicted data"
   ]
  },
  {
   "cell_type": "code",
   "execution_count": 52,
   "metadata": {},
   "outputs": [
    {
     "data": {
      "image/png": "[encoded data removed]",
      "text/plain": [
       "<Figure size 720x576 with 1 Axes>"
      ]
     },
     "metadata": {
      "needs_background": "light"
     },
     "output_type": "display_data"
    }
   ],
   "source": [
    "plt.figure(figsize=(10,8))\n",
    "plt.plot(result_log.reset_index()[\"actual\"].iloc[:50],color='red')\n",
    "plt.plot(result_log.reset_index()[\"predicted\"].iloc[:50],color='yellow')\n",
    "plt.plot(result_log.reset_index()[\"predicted with log\"].iloc[:50],color='green')\n",
    "plt.show()"
   ]
  },
  {
   "cell_type": "markdown",
   "metadata": {},
   "source": [
    "## Conclussion"
   ]
  },
  {
   "cell_type": "markdown",
   "metadata": {},
   "source": [
    "This model can be used to estimate car value, so if someone want to sell their used car they can estimate the price to sell according to the market in this dataset. The best model to do this is Gradient Boosting Regression."
   ]
  },
  {
   "cell_type": "code",
   "execution_count": null,
   "metadata": {},
   "outputs": [],
   "source": []
  }
 ],
 "metadata": {
  "kernelspec": {
   "display_name": "Python 3",
   "language": "python",
   "name": "python3"
  },
  "language_info": {
   "codemirror_mode": {
    "name": "ipython",
    "version": 3
   },
   "file_extension": ".py",
   "mimetype": "text/x-python",
   "name": "python",
   "nbconvert_exporter": "python",
   "pygments_lexer": "ipython3",
   "version": "3.8.3"
  }
 },
 "nbformat": 4,
 "nbformat_minor": 4
}
